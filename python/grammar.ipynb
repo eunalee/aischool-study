{
 "cells": [
  {
   "cell_type": "markdown",
   "id": "81b7a2da",
   "metadata": {},
   "source": [
    "### 데이터 타입"
   ]
  },
  {
   "cell_type": "markdown",
   "id": "10914635",
   "metadata": {},
   "source": [
    "- 숫자형(Numeric)"
   ]
  },
  {
   "cell_type": "code",
   "execution_count": null,
   "id": "ef737956",
   "metadata": {},
   "outputs": [
    {
     "data": {
      "text/plain": [
       "float"
      ]
     },
     "execution_count": 2,
     "metadata": {},
     "output_type": "execute_result"
    }
   ],
   "source": [
    "# 정수 (int)\n",
    "i = 10\n",
    "type(i)\n",
    "\n",
    "# 실수 (float)\n",
    "f = 3.14 \n",
    "type(f)"
   ]
  },
  {
   "cell_type": "markdown",
   "id": "dcf1bb83",
   "metadata": {},
   "source": [
    "- Boolean"
   ]
  },
  {
   "cell_type": "code",
   "execution_count": null,
   "id": "b5758392",
   "metadata": {},
   "outputs": [
    {
     "data": {
      "text/plain": [
       "bool"
      ]
     },
     "execution_count": 3,
     "metadata": {},
     "output_type": "execute_result"
    }
   ],
   "source": [
    "flag = True\n",
    "type(flag)"
   ]
  },
  {
   "cell_type": "markdown",
   "id": "e139f01a",
   "metadata": {},
   "source": [
    "- 문자열 (str)"
   ]
  },
  {
   "cell_type": "code",
   "execution_count": 2,
   "id": "fdea0933",
   "metadata": {},
   "outputs": [
    {
     "name": "stdout",
     "output_type": "stream",
     "text": [
      "Python's easy.\n",
      "People said, \"Life is too short, You need Python.\"\n"
     ]
    }
   ],
   "source": [
    "s = 'Hello'\n",
    "type(s)\n",
    "\n",
    "# 문자열에 작은 따옴표(')가 포함된 경우\n",
    "s = \"Python's easy.\"\n",
    "print(s)\n",
    "\n",
    "# 문자열에 큰 따옴표(\")가 포함된 경우, 이스케이프 문자 이용\n",
    "s = \"People said, \\\"Life is too short, You need Python.\\\"\"\n",
    "print(s)"
   ]
  },
  {
   "cell_type": "markdown",
   "id": "57794d88",
   "metadata": {},
   "source": [
    "- 리스트 (list)"
   ]
  },
  {
   "cell_type": "code",
   "execution_count": 3,
   "id": "b1278d4a",
   "metadata": {},
   "outputs": [
    {
     "name": "stdout",
     "output_type": "stream",
     "text": [
      "2\n"
     ]
    }
   ],
   "source": [
    "li = [1, 2, 3]\n",
    "type(li)\n",
    "\n",
    "# 인덱싱\n",
    "print(li[1])"
   ]
  },
  {
   "cell_type": "markdown",
   "id": "ffa0c35d",
   "metadata": {},
   "source": [
    "- 튜플 (tuple)"
   ]
  },
  {
   "cell_type": "code",
   "execution_count": 4,
   "id": "8abd93ca",
   "metadata": {},
   "outputs": [
    {
     "name": "stdout",
     "output_type": "stream",
     "text": [
      "(1, 2)\n"
     ]
    }
   ],
   "source": [
    "t = (1, 2, 3)\n",
    "type(t)\n",
    "\n",
    "# 슬라이싱\n",
    "print(t[0:2])"
   ]
  },
  {
   "cell_type": "markdown",
   "id": "4898f551",
   "metadata": {},
   "source": [
    "- 딕셔너리 (dict)"
   ]
  },
  {
   "cell_type": "code",
   "execution_count": 5,
   "id": "f44a00bc",
   "metadata": {},
   "outputs": [
    {
     "data": {
      "text/plain": [
       "'체리'"
      ]
     },
     "execution_count": 5,
     "metadata": {},
     "output_type": "execute_result"
    }
   ],
   "source": [
    "fruits = {'apple' : '사과', 'banana' : '바나나', 'cherry' : '체리'}\n",
    "type(fruits)\n",
    "\n",
    "fruits['cherry']"
   ]
  },
  {
   "cell_type": "markdown",
   "id": "e4afab8a",
   "metadata": {},
   "source": [
    "### 연산"
   ]
  },
  {
   "cell_type": "markdown",
   "id": "8f6f7245",
   "metadata": {},
   "source": [
    "- 숫자형(Numeric)"
   ]
  },
  {
   "cell_type": "code",
   "execution_count": 6,
   "id": "29b6f885",
   "metadata": {},
   "outputs": [
    {
     "name": "stdout",
     "output_type": "stream",
     "text": [
      "7\n",
      "-1\n",
      "12\n",
      "0.75\n",
      "0\n",
      "3\n"
     ]
    }
   ],
   "source": [
    "a = 3\n",
    "b = 4\n",
    "\n",
    "# 덧셈\n",
    "print(a + b)\n",
    "\n",
    "# 뺄셈 \n",
    "print(a - b)\n",
    "\n",
    "# 곱셈\n",
    "print(a * b)\n",
    "\n",
    "# 나눗셈\n",
    "print(a / b)\n",
    "\n",
    "# 몫 - 정수만 반환(소수점 버림)\n",
    "print(a // b)\n",
    "\n",
    "# 나머지\n",
    "print(a % b)"
   ]
  },
  {
   "cell_type": "markdown",
   "id": "e9e26bfa",
   "metadata": {},
   "source": [
    "- 문자열 (str)"
   ]
  },
  {
   "cell_type": "code",
   "execution_count": 8,
   "id": "f9fe976c",
   "metadata": {},
   "outputs": [
    {
     "name": "stdout",
     "output_type": "stream",
     "text": [
      "Hello Python\n",
      "HelloHello\n"
     ]
    }
   ],
   "source": [
    "s1 = 'Hello'\n",
    "s2 = ' Python'\n",
    "\n",
    "print(s1 + s2)\n",
    "print(s1 * 2)"
   ]
  },
  {
   "cell_type": "markdown",
   "id": "b59a1c6a",
   "metadata": {},
   "source": [
    "- 리스트 (list)"
   ]
  },
  {
   "cell_type": "code",
   "execution_count": 9,
   "id": "a58c1209",
   "metadata": {},
   "outputs": [
    {
     "name": "stdout",
     "output_type": "stream",
     "text": [
      "[4, 5, 6, 7, 8, 9, 10, 11]\n",
      "[4, 5, 6, 4, 5, 6]\n"
     ]
    }
   ],
   "source": [
    "li1 = [4, 5, 6]\n",
    "li2 = [7, 8, 9, 10, 11]\n",
    "\n",
    "print(li1 + li2)\n",
    "print(li1 * 2)"
   ]
  },
  {
   "cell_type": "markdown",
   "id": "1561fd75",
   "metadata": {},
   "source": [
    "- 튜플 (tuple)"
   ]
  },
  {
   "cell_type": "code",
   "execution_count": 10,
   "id": "f257a661",
   "metadata": {},
   "outputs": [
    {
     "name": "stdout",
     "output_type": "stream",
     "text": [
      "(1, 2, 3, 4, 5)\n",
      "(1, 2, 3, 1, 2, 3)\n"
     ]
    }
   ],
   "source": [
    "t1 = (1, 2, 3)\n",
    "t2 = (4, 5)\n",
    "\n",
    "print(t1 + t2)\n",
    "print(t1 * 2)"
   ]
  },
  {
   "cell_type": "markdown",
   "id": "5571f2f1",
   "metadata": {},
   "source": [
    "### if문"
   ]
  },
  {
   "cell_type": "code",
   "execution_count": 8,
   "id": "37272016",
   "metadata": {},
   "outputs": [
    {
     "name": "stdout",
     "output_type": "stream",
     "text": [
      "C\n"
     ]
    }
   ],
   "source": [
    "# 점수가 90점 이상이면 'A' 출력\n",
    "# 점수가 80점 이상 ~ 90점 미만이면 'B' 출력\n",
    "# 점수가 80점 미만이면 'C' 출력\n",
    "\n",
    "score = int(input('점수를 입력하세요: '))\n",
    "\n",
    "if score >= 90 : \n",
    "  print('A')\n",
    "elif score >= 80 : \n",
    "  print('B')\n",
    "else :\n",
    "  print('C')"
   ]
  },
  {
   "cell_type": "markdown",
   "id": "e8fc3969",
   "metadata": {},
   "source": [
    "### while문"
   ]
  },
  {
   "cell_type": "code",
   "execution_count": 11,
   "id": "823a76ee",
   "metadata": {},
   "outputs": [
    {
     "name": "stdout",
     "output_type": "stream",
     "text": [
      "1\n",
      "3\n",
      "5\n",
      "7\n",
      "9\n"
     ]
    }
   ],
   "source": [
    "# 1부터 10까지 숫자 중에서 홀수만 출력\n",
    "i = 0\n",
    "while i < 10 :\n",
    "  if i % 2 :\n",
    "    print(i)\n",
    "  i += 1"
   ]
  },
  {
   "cell_type": "code",
   "execution_count": 12,
   "id": "94713081",
   "metadata": {},
   "outputs": [
    {
     "name": "stdout",
     "output_type": "stream",
     "text": [
      "정답입니다.\n"
     ]
    }
   ],
   "source": [
    "# 퀴즈 맞추기\n",
    "while True :\n",
    "  answer = input('대한민국의 수도는? ')\n",
    "\n",
    "  if answer in ['서울', 'SEOUL', 'Seoul', 'seoul'] : \n",
    "    print('정답입니다.')\n",
    "    break\n",
    "  else :\n",
    "    print('오답입니다.')"
   ]
  },
  {
   "cell_type": "markdown",
   "id": "beac1fd8",
   "metadata": {},
   "source": [
    "### for문"
   ]
  },
  {
   "cell_type": "code",
   "execution_count": 13,
   "id": "41c2ad9a",
   "metadata": {},
   "outputs": [
    {
     "name": "stdout",
     "output_type": "stream",
     "text": [
      "1\n",
      "3\n",
      "5\n",
      "7\n",
      "9\n"
     ]
    }
   ],
   "source": [
    "# 1부터 10까지 숫자 중에서 홀수만 출력\n",
    "for i in range(10) :\n",
    "  if i % 2 :\n",
    "    print(i)"
   ]
  },
  {
   "cell_type": "code",
   "execution_count": 14,
   "id": "cd437492",
   "metadata": {},
   "outputs": [
    {
     "name": "stdout",
     "output_type": "stream",
     "text": [
      "2\n",
      "4\n",
      "6\n",
      "8\n",
      "10\n",
      "12\n",
      "14\n",
      "16\n",
      "18\n",
      "20\n"
     ]
    }
   ],
   "source": [
    "# 1부터 20까지 숫자 중에서 짝수만 출력\n",
    "for i in range(1, 21) :\n",
    "  if i % 2 :\n",
    "    continue\n",
    "  print(i)"
   ]
  },
  {
   "cell_type": "markdown",
   "id": "59b245cf",
   "metadata": {},
   "source": [
    "### 함수"
   ]
  },
  {
   "cell_type": "code",
   "execution_count": 15,
   "id": "961a2a80",
   "metadata": {},
   "outputs": [
    {
     "name": "stdout",
     "output_type": "stream",
     "text": [
      "6\n",
      "-2\n",
      "12\n"
     ]
    }
   ],
   "source": [
    "# 입력에 따라 연산 결과를 반환하는 함수\n",
    "def stat(type, *args) :\n",
    "  result = 0\n",
    "\n",
    "  # 합\n",
    "  if type == 'sum' :\n",
    "    for i in args :\n",
    "      result += i\n",
    "  # 최소값\n",
    "  elif type == 'min' :\n",
    "    result = args[0]\n",
    "\n",
    "    for i in args :\n",
    "      if i < result :\n",
    "        result = i\n",
    "  # 최대값\n",
    "  elif type == 'max' :\n",
    "    result = args[0]\n",
    "\n",
    "    for i in args :\n",
    "      if i > result :\n",
    "        result = i\n",
    "\n",
    "  return result\n",
    "  \n",
    "print(stat('sum', 1, 2, 3))\n",
    "print(stat('min', 51, -2, 3, 20))\n",
    "print(stat('max', 10, 11, 12))"
   ]
  },
  {
   "cell_type": "markdown",
   "id": "1636b4a0",
   "metadata": {},
   "source": [
    "### 람다 함수"
   ]
  },
  {
   "cell_type": "code",
   "execution_count": 17,
   "id": "b22c13b6",
   "metadata": {},
   "outputs": [
    {
     "name": "stdout",
     "output_type": "stream",
     "text": [
      "9\n",
      "9\n"
     ]
    }
   ],
   "source": [
    "# 입력값을 거듭제곱한 결과를 반환하는 함수\n",
    "\n",
    "# 기본 함수\n",
    "def square(n) : \n",
    "  return n ** 2\n",
    "print(square(3))\n",
    "\n",
    "# 람다 함수로 변환\n",
    "square = lambda n : n ** 2\n",
    "print(square(3))"
   ]
  },
  {
   "cell_type": "markdown",
   "id": "3411b568",
   "metadata": {},
   "source": [
    "### 고차 함수"
   ]
  },
  {
   "cell_type": "markdown",
   "id": "03cb3685",
   "metadata": {},
   "source": [
    "- map"
   ]
  },
  {
   "cell_type": "code",
   "execution_count": 18,
   "id": "cc5c355b",
   "metadata": {},
   "outputs": [
    {
     "name": "stdout",
     "output_type": "stream",
     "text": [
      "['1', '2', '3', '4']\n"
     ]
    }
   ],
   "source": [
    "# 숫자 → 문자열 데이터로 변경\n",
    "nums = [1, 2, 3, 4]\n",
    "print(list(map(str, nums)))"
   ]
  },
  {
   "cell_type": "markdown",
   "id": "30f87aef",
   "metadata": {},
   "source": [
    "- filter"
   ]
  },
  {
   "cell_type": "code",
   "execution_count": 19,
   "id": "bb758f88",
   "metadata": {},
   "outputs": [
    {
     "name": "stdout",
     "output_type": "stream",
     "text": [
      "[3, 7, 5, 2]\n"
     ]
    }
   ],
   "source": [
    "# 10보다 작은 수만 출력\n",
    "nums = [3, 12, 54, 39, 7, 187, 5, 2, 26, 84]\n",
    "print(list(filter(lambda n : n < 10, nums)))"
   ]
  },
  {
   "cell_type": "markdown",
   "id": "c2a17674",
   "metadata": {},
   "source": [
    "- enumerate"
   ]
  },
  {
   "cell_type": "code",
   "execution_count": 20,
   "id": "bfb2a499",
   "metadata": {},
   "outputs": [
    {
     "name": "stdout",
     "output_type": "stream",
     "text": [
      "1 red\n",
      "2 green\n",
      "3 blue\n"
     ]
    }
   ],
   "source": [
    "# 인덱스 변경\n",
    "for index, value in enumerate(['red', 'green', 'blue'], start=1) :\n",
    "  print(index, value)"
   ]
  },
  {
   "cell_type": "markdown",
   "id": "e7cdd5a6",
   "metadata": {},
   "source": [
    "### 클래스"
   ]
  },
  {
   "cell_type": "code",
   "execution_count": 18,
   "id": "be66bc27",
   "metadata": {},
   "outputs": [
    {
     "name": "stdout",
     "output_type": "stream",
     "text": [
      "bestwarrior님이 속한 서버는 Azshara 입니다.\n",
      "레벨 : Lv.50\n"
     ]
    }
   ],
   "source": [
    "# Character 클래스 - 부모 클래스\n",
    "class Character :\n",
    "  def __init__(self, nickname, server) :\n",
    "    self.nickname = nickname\n",
    "    self.server = server\n",
    "    \n",
    "  def info(self) :\n",
    "    print(f'{self.nickname}님이 속한 서버는 {self.server} 입니다.')\n",
    "  \n",
    "\n",
    "# Warrior 클래스 - 자식 클래스\n",
    "class Warrior(Character) :\n",
    "  # super() 로 상속받은 Character 클래스 생성자 호출\n",
    "  def __init__(self, nickname, server, level) :\n",
    "    super().__init__(nickname, server)\n",
    "    self.level = level\n",
    "    \n",
    "  # 상속받은 Character 클래스 info() 메소드 재정의(Override)\n",
    "  def info(self) :\n",
    "    super().info()\n",
    "    print(f'레벨 : Lv.{self.level}')\n",
    "\n",
    "\n",
    "# Warrior 객체 생성\n",
    "w = Warrior('bestwarrior', 'Azshara', 50)\n",
    "w.info()"
   ]
  }
 ],
 "metadata": {
  "kernelspec": {
   "display_name": "Python 3",
   "language": "python",
   "name": "python3"
  },
  "language_info": {
   "codemirror_mode": {
    "name": "ipython",
    "version": 3
   },
   "file_extension": ".py",
   "mimetype": "text/x-python",
   "name": "python",
   "nbconvert_exporter": "python",
   "pygments_lexer": "ipython3",
   "version": "3.11.9"
  }
 },
 "nbformat": 4,
 "nbformat_minor": 5
}
